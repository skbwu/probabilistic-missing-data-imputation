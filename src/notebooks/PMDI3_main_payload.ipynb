{
 "cells": [
  {
   "cell_type": "code",
   "execution_count": 42,
   "id": "c31b54f5",
   "metadata": {},
   "outputs": [],
   "source": [
    "from LakeWorldMain import run_LakeWorld\n",
    "import numpy as np\n",
    "import sys, os, pickle\n",
    "from collections import ChainMap"
   ]
  },
  {
   "cell_type": "code",
   "execution_count": 43,
   "id": "6cf61675",
   "metadata": {},
   "outputs": [],
   "source": [
    "# use command-line arguments to figure out which of 1728x combined settings we're running\n",
    "with open(\"combined_settings.pickle\", \"rb\") as file:\n",
    "    combined_settings = pickle.load(file)\n",
    "combined_setting = combined_settings[int(sys.argv[1])] # between 0 and 1727\n",
    "\n",
    "# also load in our env settings\n",
    "with open(\"env_settings.pickle\", \"rb\") as file:\n",
    "    env_settings = pickle.load(file)"
   ]
  },
  {
   "cell_type": "code",
   "execution_count": 48,
   "id": "e61be39b",
   "metadata": {},
   "outputs": [
    {
     "name": "stdout",
     "output_type": "stream",
     "text": [
      "Timestep: 2000\n",
      "Total Reward So Far This Episode: -1295\n",
      "Tada!\n"
     ]
    }
   ],
   "source": [
    "# go thru each set of env_setting + our 5x seeds + run our simulation\n",
    "for env_setting in env_settings:\n",
    "    for seed in range(5):\n",
    "        \n",
    "        # concatenate all of our settings together + manually add in our seed\n",
    "        setting = dict(ChainMap(combined_setting.copy(), env_setting.copy()))\n",
    "        setting[\"seed\"] = seed\n",
    "        \n",
    "        # run our payload experiment\n",
    "        output = run_LakeWorld(**setting)"
   ]
  }
 ],
 "metadata": {
  "kernelspec": {
   "display_name": "Python 3.10 (Afterburner)",
   "language": "python",
   "name": "afterburner"
  },
  "language_info": {
   "codemirror_mode": {
    "name": "ipython",
    "version": 3
   },
   "file_extension": ".py",
   "mimetype": "text/x-python",
   "name": "python",
   "nbconvert_exporter": "python",
   "pygments_lexer": "ipython3",
   "version": "3.10.14"
  }
 },
 "nbformat": 4,
 "nbformat_minor": 5
}
