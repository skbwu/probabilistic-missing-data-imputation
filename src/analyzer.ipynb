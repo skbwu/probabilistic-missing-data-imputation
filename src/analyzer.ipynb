{
 "cells": [
  {
   "cell_type": "code",
   "execution_count": 19,
   "id": "4df1fc11",
   "metadata": {},
   "outputs": [],
   "source": [
    "import numpy as np\n",
    "import pandas as pd\n",
    "import sys, copy, os"
   ]
  },
  {
   "cell_type": "code",
   "execution_count": 25,
   "id": "3d128279",
   "metadata": {},
   "outputs": [],
   "source": [
    "logs = pd.concat([pd.read_csv(f\"logs/aggregate_logs_v3_split={str(i).zfill(2)}.csv\") for i in range(32)])\n",
    "logs.to_csv(\"aggregate_logs_v3.csv\", index=False)"
   ]
  }
 ],
 "metadata": {
  "kernelspec": {
   "display_name": "Python 3.10 (Afterburner)",
   "language": "python",
   "name": "afterburner"
  },
  "language_info": {
   "codemirror_mode": {
    "name": "ipython",
    "version": 3
   },
   "file_extension": ".py",
   "mimetype": "text/x-python",
   "name": "python",
   "nbconvert_exporter": "python",
   "pygments_lexer": "ipython3",
   "version": "3.10.9"
  }
 },
 "nbformat": 4,
 "nbformat_minor": 5
}
