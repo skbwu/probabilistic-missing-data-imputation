{
 "cells": [
  {
   "cell_type": "code",
   "execution_count": 1,
   "id": "09b8d784",
   "metadata": {},
   "outputs": [],
   "source": [
    "import gymnasium as gym\n",
    "env = gym.make(\"FrozenLake8x8-v1\", map_name=\"8x8\", is_slippery=True)\n",
    "obs, info = env.reset()\n",
    "done = False"
   ]
  },
  {
   "cell_type": "code",
   "execution_count": 3,
   "id": "66b62f7c",
   "metadata": {},
   "outputs": [
    {
     "name": "stdout",
     "output_type": "stream",
     "text": [
      " Retrying in 1 seconds\n"
     ]
    },
    {
     "name": "stderr",
     "output_type": "stream",
     "text": [
      "Warning: Environment variable SUMO_HOME is not set properly, disabling XML validation. Set 'auto' or 'always' for web lookups.\n",
      "Error: File '/n/home11/skbwu/miniconda3/envs/afterburner/lib/python3.10/site-packages/sumo_rl/nets/2way-single-intersection/single-intersection.net.xml' is not accessible (No such file or directory).\n",
      "Quitting (on error).\n"
     ]
    },
    {
     "ename": "FatalTraCIError",
     "evalue": "Connection closed by SUMO.",
     "output_type": "error",
     "traceback": [
      "\u001b[0;31m---------------------------------------------------------------------------\u001b[0m",
      "\u001b[0;31mFatalTraCIError\u001b[0m                           Traceback (most recent call last)",
      "Cell \u001b[0;32mIn[3], line 12\u001b[0m\n\u001b[1;32m      8\u001b[0m header \u001b[38;5;241m=\u001b[39m \u001b[38;5;124m\"\u001b[39m\u001b[38;5;124m/n/home11/skbwu/miniconda3/envs/afterburner/lib/python3.10/\u001b[39m\u001b[38;5;124m\"\u001b[39m\\\n\u001b[1;32m      9\u001b[0m          \u001b[38;5;124m\"\u001b[39m\u001b[38;5;124msite-packages/sumo_rl/nets/2way-single-intersection\u001b[39m\u001b[38;5;124m\"\u001b[39m\n\u001b[1;32m     11\u001b[0m \u001b[38;5;66;03m# create our OpenAI Gym environment\u001b[39;00m\n\u001b[0;32m---> 12\u001b[0m env \u001b[38;5;241m=\u001b[39m \u001b[43mgym\u001b[49m\u001b[38;5;241;43m.\u001b[39;49m\u001b[43mmake\u001b[49m\u001b[43m(\u001b[49m\u001b[38;5;28;43mid\u001b[39;49m\u001b[38;5;241;43m=\u001b[39;49m\u001b[38;5;124;43m\"\u001b[39;49m\u001b[38;5;124;43msumo-rl-v0\u001b[39;49m\u001b[38;5;124;43m\"\u001b[39;49m\u001b[43m,\u001b[49m\n\u001b[1;32m     13\u001b[0m \u001b[43m               \u001b[49m\u001b[43mnet_file\u001b[49m\u001b[38;5;241;43m=\u001b[39;49m\u001b[38;5;124;43mf\u001b[39;49m\u001b[38;5;124;43m\"\u001b[39;49m\u001b[38;5;132;43;01m{\u001b[39;49;00m\u001b[43mheader\u001b[49m\u001b[38;5;132;43;01m}\u001b[39;49;00m\u001b[38;5;124;43m/single-intersection.net.xml\u001b[39;49m\u001b[38;5;124;43m\"\u001b[39;49m\u001b[43m,\u001b[49m\n\u001b[1;32m     14\u001b[0m \u001b[43m               \u001b[49m\u001b[43mroute_file\u001b[49m\u001b[38;5;241;43m=\u001b[39;49m\u001b[38;5;124;43mf\u001b[39;49m\u001b[38;5;124;43m\"\u001b[39;49m\u001b[38;5;132;43;01m{\u001b[39;49;00m\u001b[43mheader\u001b[49m\u001b[38;5;132;43;01m}\u001b[39;49;00m\u001b[38;5;124;43m/single-intersection-vhvh.rou.xml\u001b[39;49m\u001b[38;5;124;43m\"\u001b[39;49m\u001b[43m)\u001b[49m\n",
      "File \u001b[0;32m/opt/homebrew/Caskroom/miniforge/base/envs/afterburner/lib/python3.10/site-packages/gymnasium/envs/registration.py:802\u001b[0m, in \u001b[0;36mmake\u001b[0;34m(id, max_episode_steps, autoreset, apply_api_compatibility, disable_env_checker, **kwargs)\u001b[0m\n\u001b[1;32m    799\u001b[0m     render_mode \u001b[38;5;241m=\u001b[39m \u001b[38;5;28;01mNone\u001b[39;00m\n\u001b[1;32m    801\u001b[0m \u001b[38;5;28;01mtry\u001b[39;00m:\n\u001b[0;32m--> 802\u001b[0m     env \u001b[38;5;241m=\u001b[39m \u001b[43menv_creator\u001b[49m\u001b[43m(\u001b[49m\u001b[38;5;241;43m*\u001b[39;49m\u001b[38;5;241;43m*\u001b[39;49m\u001b[43menv_spec_kwargs\u001b[49m\u001b[43m)\u001b[49m\n\u001b[1;32m    803\u001b[0m \u001b[38;5;28;01mexcept\u001b[39;00m \u001b[38;5;167;01mTypeError\u001b[39;00m \u001b[38;5;28;01mas\u001b[39;00m e:\n\u001b[1;32m    804\u001b[0m     \u001b[38;5;28;01mif\u001b[39;00m (\n\u001b[1;32m    805\u001b[0m         \u001b[38;5;28mstr\u001b[39m(e)\u001b[38;5;241m.\u001b[39mfind(\u001b[38;5;124m\"\u001b[39m\u001b[38;5;124mgot an unexpected keyword argument \u001b[39m\u001b[38;5;124m'\u001b[39m\u001b[38;5;124mrender_mode\u001b[39m\u001b[38;5;124m'\u001b[39m\u001b[38;5;124m\"\u001b[39m) \u001b[38;5;241m>\u001b[39m\u001b[38;5;241m=\u001b[39m \u001b[38;5;241m0\u001b[39m\n\u001b[1;32m    806\u001b[0m         \u001b[38;5;129;01mand\u001b[39;00m apply_human_rendering\n\u001b[1;32m    807\u001b[0m     ):\n",
      "File \u001b[0;32m/opt/homebrew/Caskroom/miniforge/base/envs/afterburner/lib/python3.10/site-packages/sumo_rl/environment/env.py:149\u001b[0m, in \u001b[0;36mSumoEnvironment.__init__\u001b[0;34m(self, net_file, route_file, out_csv_name, use_gui, virtual_display, begin_time, num_seconds, max_depart_delay, waiting_time_memory, time_to_teleport, delta_time, yellow_time, min_green, max_green, single_agent, reward_fn, observation_class, add_system_info, add_per_agent_info, sumo_seed, fixed_ts, sumo_warnings, additional_sumo_cmd, render_mode)\u001b[0m\n\u001b[1;32m    147\u001b[0m     conn \u001b[38;5;241m=\u001b[39m traci\n\u001b[1;32m    148\u001b[0m \u001b[38;5;28;01melse\u001b[39;00m:\n\u001b[0;32m--> 149\u001b[0m     \u001b[43mtraci\u001b[49m\u001b[38;5;241;43m.\u001b[39;49m\u001b[43mstart\u001b[49m\u001b[43m(\u001b[49m\u001b[43m[\u001b[49m\u001b[43msumolib\u001b[49m\u001b[38;5;241;43m.\u001b[39;49m\u001b[43mcheckBinary\u001b[49m\u001b[43m(\u001b[49m\u001b[38;5;124;43m\"\u001b[39;49m\u001b[38;5;124;43msumo\u001b[39;49m\u001b[38;5;124;43m\"\u001b[39;49m\u001b[43m)\u001b[49m\u001b[43m,\u001b[49m\u001b[43m \u001b[49m\u001b[38;5;124;43m\"\u001b[39;49m\u001b[38;5;124;43m-n\u001b[39;49m\u001b[38;5;124;43m\"\u001b[39;49m\u001b[43m,\u001b[49m\u001b[43m \u001b[49m\u001b[38;5;28;43mself\u001b[39;49m\u001b[38;5;241;43m.\u001b[39;49m\u001b[43m_net\u001b[49m\u001b[43m]\u001b[49m\u001b[43m,\u001b[49m\u001b[43m \u001b[49m\u001b[43mlabel\u001b[49m\u001b[38;5;241;43m=\u001b[39;49m\u001b[38;5;124;43m\"\u001b[39;49m\u001b[38;5;124;43minit_connection\u001b[39;49m\u001b[38;5;124;43m\"\u001b[39;49m\u001b[43m \u001b[49m\u001b[38;5;241;43m+\u001b[39;49m\u001b[43m \u001b[49m\u001b[38;5;28;43mself\u001b[39;49m\u001b[38;5;241;43m.\u001b[39;49m\u001b[43mlabel\u001b[49m\u001b[43m)\u001b[49m\n\u001b[1;32m    150\u001b[0m     conn \u001b[38;5;241m=\u001b[39m traci\u001b[38;5;241m.\u001b[39mgetConnection(\u001b[38;5;124m\"\u001b[39m\u001b[38;5;124minit_connection\u001b[39m\u001b[38;5;124m\"\u001b[39m \u001b[38;5;241m+\u001b[39m \u001b[38;5;28mself\u001b[39m\u001b[38;5;241m.\u001b[39mlabel)\n\u001b[1;32m    152\u001b[0m \u001b[38;5;28mself\u001b[39m\u001b[38;5;241m.\u001b[39mts_ids \u001b[38;5;241m=\u001b[39m \u001b[38;5;28mlist\u001b[39m(conn\u001b[38;5;241m.\u001b[39mtrafficlight\u001b[38;5;241m.\u001b[39mgetIDList())\n",
      "File \u001b[0;32m/opt/homebrew/Caskroom/miniforge/base/envs/afterburner/lib/python3.10/site-packages/traci/main.py:147\u001b[0m, in \u001b[0;36mstart\u001b[0;34m(cmd, port, numRetries, label, verbose, traceFile, traceGetters, stdout, doSwitch)\u001b[0m\n\u001b[1;32m    145\u001b[0m sumoProcess \u001b[38;5;241m=\u001b[39m subprocess\u001b[38;5;241m.\u001b[39mPopen(cmd2, stdout\u001b[38;5;241m=\u001b[39mstdout)\n\u001b[1;32m    146\u001b[0m \u001b[38;5;28;01mtry\u001b[39;00m:\n\u001b[0;32m--> 147\u001b[0m     result \u001b[38;5;241m=\u001b[39m \u001b[43minit\u001b[49m\u001b[43m(\u001b[49m\u001b[43msumoPort\u001b[49m\u001b[43m,\u001b[49m\u001b[43m \u001b[49m\u001b[43mnumRetries\u001b[49m\u001b[43m,\u001b[49m\u001b[43m \u001b[49m\u001b[38;5;124;43m\"\u001b[39;49m\u001b[38;5;124;43mlocalhost\u001b[39;49m\u001b[38;5;124;43m\"\u001b[39;49m\u001b[43m,\u001b[49m\u001b[43m \u001b[49m\u001b[43mlabel\u001b[49m\u001b[43m,\u001b[49m\u001b[43m \u001b[49m\u001b[43msumoProcess\u001b[49m\u001b[43m,\u001b[49m\u001b[43m \u001b[49m\u001b[43mdoSwitch\u001b[49m\u001b[43m,\u001b[49m\u001b[43m \u001b[49m\u001b[43mtraceFile\u001b[49m\u001b[43m,\u001b[49m\u001b[43m \u001b[49m\u001b[43mtraceGetters\u001b[49m\u001b[43m)\u001b[49m\n\u001b[1;32m    148\u001b[0m     \u001b[38;5;28;01mif\u001b[39;00m traceFile \u001b[38;5;129;01mis\u001b[39;00m \u001b[38;5;129;01mnot\u001b[39;00m \u001b[38;5;28;01mNone\u001b[39;00m:\n\u001b[1;32m    149\u001b[0m         connection\u001b[38;5;241m.\u001b[39mget(label)\u001b[38;5;241m.\u001b[39mwrite(\u001b[38;5;124m\"\u001b[39m\u001b[38;5;124mstart\u001b[39m\u001b[38;5;124m\"\u001b[39m, \u001b[38;5;124m\"\u001b[39m\u001b[38;5;132;01m%s\u001b[39;00m\u001b[38;5;124m, port=\u001b[39m\u001b[38;5;132;01m%s\u001b[39;00m\u001b[38;5;124m, label=\u001b[39m\u001b[38;5;132;01m%s\u001b[39;00m\u001b[38;5;124m\"\u001b[39m \u001b[38;5;241m%\u001b[39m (\u001b[38;5;28mrepr\u001b[39m(cmd), \u001b[38;5;28mrepr\u001b[39m(port), \u001b[38;5;28mrepr\u001b[39m(label)))\n",
      "File \u001b[0;32m/opt/homebrew/Caskroom/miniforge/base/envs/afterburner/lib/python3.10/site-packages/traci/main.py:119\u001b[0m, in \u001b[0;36minit\u001b[0;34m(port, numRetries, host, label, proc, doSwitch, traceFile, traceGetters)\u001b[0m\n\u001b[1;32m    117\u001b[0m \u001b[38;5;28;01mif\u001b[39;00m doSwitch:\n\u001b[1;32m    118\u001b[0m     switch(label)\n\u001b[0;32m--> 119\u001b[0m \u001b[38;5;28;01mreturn\u001b[39;00m \u001b[43mcon\u001b[49m\u001b[38;5;241;43m.\u001b[39;49m\u001b[43mgetVersion\u001b[49m\u001b[43m(\u001b[49m\u001b[43m)\u001b[49m\n",
      "File \u001b[0;32m/opt/homebrew/Caskroom/miniforge/base/envs/afterburner/lib/python3.10/site-packages/traci/connection.py:381\u001b[0m, in \u001b[0;36mConnection.getVersion\u001b[0;34m(self)\u001b[0m\n\u001b[1;32m    379\u001b[0m \u001b[38;5;28;01mdef\u001b[39;00m \u001b[38;5;21mgetVersion\u001b[39m(\u001b[38;5;28mself\u001b[39m):\n\u001b[1;32m    380\u001b[0m     command \u001b[38;5;241m=\u001b[39m tc\u001b[38;5;241m.\u001b[39mCMD_GETVERSION\n\u001b[0;32m--> 381\u001b[0m     result \u001b[38;5;241m=\u001b[39m \u001b[38;5;28;43mself\u001b[39;49m\u001b[38;5;241;43m.\u001b[39;49m\u001b[43m_sendCmd\u001b[49m\u001b[43m(\u001b[49m\u001b[43mcommand\u001b[49m\u001b[43m,\u001b[49m\u001b[43m \u001b[49m\u001b[38;5;28;43;01mNone\u001b[39;49;00m\u001b[43m,\u001b[49m\u001b[43m \u001b[49m\u001b[38;5;28;43;01mNone\u001b[39;49;00m\u001b[43m)\u001b[49m\n\u001b[1;32m    382\u001b[0m     result\u001b[38;5;241m.\u001b[39mreadLength()\n\u001b[1;32m    383\u001b[0m     response \u001b[38;5;241m=\u001b[39m result\u001b[38;5;241m.\u001b[39mread(\u001b[38;5;124m\"\u001b[39m\u001b[38;5;124m!B\u001b[39m\u001b[38;5;124m\"\u001b[39m)[\u001b[38;5;241m0\u001b[39m]\n",
      "File \u001b[0;32m/opt/homebrew/Caskroom/miniforge/base/envs/afterburner/lib/python3.10/site-packages/traci/connection.py:231\u001b[0m, in \u001b[0;36mConnection._sendCmd\u001b[0;34m(self, cmdID, varID, objID, format, *values)\u001b[0m\n\u001b[1;32m    229\u001b[0m     \u001b[38;5;28mself\u001b[39m\u001b[38;5;241m.\u001b[39m_string \u001b[38;5;241m+\u001b[39m\u001b[38;5;241m=\u001b[39m struct\u001b[38;5;241m.\u001b[39mpack(\u001b[38;5;124m\"\u001b[39m\u001b[38;5;124m!i\u001b[39m\u001b[38;5;124m\"\u001b[39m, \u001b[38;5;28mlen\u001b[39m(objID)) \u001b[38;5;241m+\u001b[39m objID\n\u001b[1;32m    230\u001b[0m \u001b[38;5;28mself\u001b[39m\u001b[38;5;241m.\u001b[39m_string \u001b[38;5;241m+\u001b[39m\u001b[38;5;241m=\u001b[39m packed\n\u001b[0;32m--> 231\u001b[0m \u001b[38;5;28;01mreturn\u001b[39;00m \u001b[38;5;28;43mself\u001b[39;49m\u001b[38;5;241;43m.\u001b[39;49m\u001b[43m_sendExact\u001b[49m\u001b[43m(\u001b[49m\u001b[43m)\u001b[49m\n",
      "File \u001b[0;32m/opt/homebrew/Caskroom/miniforge/base/envs/afterburner/lib/python3.10/site-packages/traci/connection.py:137\u001b[0m, in \u001b[0;36mConnection._sendExact\u001b[0;34m(self)\u001b[0m\n\u001b[1;32m    135\u001b[0m     \u001b[38;5;28mself\u001b[39m\u001b[38;5;241m.\u001b[39m_socket\u001b[38;5;241m.\u001b[39mclose()\n\u001b[1;32m    136\u001b[0m     \u001b[38;5;28mself\u001b[39m\u001b[38;5;241m.\u001b[39m_socket \u001b[38;5;241m=\u001b[39m \u001b[38;5;28;01mNone\u001b[39;00m\n\u001b[0;32m--> 137\u001b[0m     \u001b[38;5;28;01mraise\u001b[39;00m FatalTraCIError(\u001b[38;5;124m\"\u001b[39m\u001b[38;5;124mConnection closed by SUMO.\u001b[39m\u001b[38;5;124m\"\u001b[39m)\n\u001b[1;32m    138\u001b[0m \u001b[38;5;28;01mfor\u001b[39;00m command \u001b[38;5;129;01min\u001b[39;00m \u001b[38;5;28mself\u001b[39m\u001b[38;5;241m.\u001b[39m_queue:\n\u001b[1;32m    139\u001b[0m     prefix \u001b[38;5;241m=\u001b[39m result\u001b[38;5;241m.\u001b[39mread(\u001b[38;5;124m\"\u001b[39m\u001b[38;5;124m!BBB\u001b[39m\u001b[38;5;124m\"\u001b[39m)\n",
      "\u001b[0;31mFatalTraCIError\u001b[0m: Connection closed by SUMO."
     ]
    }
   ],
   "source": [
    "# FASRC version\n",
    "import gymnasium as gym; import sumo_rl; import os\n",
    "\n",
    "# just to be explicit about this global variable.\n",
    "os.environ[\"SUMO_HOME\"] = \"~/miniconda3/envs/afterburner/bin/sumo\"\n",
    "\n",
    "# where are our route files stored?\n",
    "header = \"/n/home11/skbwu/miniconda3/envs/afterburner/lib/python3.10/site-packages/sumo_rl/nets/2way-single-intersection\"\n",
    "\n",
    "# create our OpenAI Gym environment\n",
    "env = gym.make(id=\"sumo-rl-v0\",\n",
    "               net_file=f\"{header}/single-intersection.net.xml\",\n",
    "               route_file=f\"{header}/single-intersection-vhvh.rou.xml\")"
   ]
  },
  {
   "cell_type": "code",
   "execution_count": 5,
   "id": "0fcd3eec",
   "metadata": {},
   "outputs": [
    {
     "data": {
      "text/plain": [
       "sumo_rl.environment.env.SumoEnvironment"
      ]
     },
     "execution_count": 5,
     "metadata": {},
     "output_type": "execute_result"
    }
   ],
   "source": [
    "from sumo_rl import SumoEnvironment\n",
    "SumoEnvironment"
   ]
  },
  {
   "cell_type": "code",
   "execution_count": null,
   "id": "fbc1d2cb",
   "metadata": {},
   "outputs": [],
   "source": [
    "SumoEnvironment()"
   ]
  },
  {
   "cell_type": "code",
   "execution_count": 6,
   "id": "4cb15a98",
   "metadata": {},
   "outputs": [
    {
     "name": "stdout",
     "output_type": "stream",
     "text": [
      " Retrying in 1 seconds\n"
     ]
    },
    {
     "name": "stderr",
     "output_type": "stream",
     "text": [
      "Warning: Environment variable SUMO_HOME is not set properly, disabling XML validation. Set 'auto' or 'always' for web lookups.\n"
     ]
    },
    {
     "name": "stdout",
     "output_type": "stream",
     "text": [
      "Step #0.00 (0ms ?*RT. ?UPS, TraCI: 7ms, vehicles TOT 0 ACT 0 BUF 0)                      \r\n"
     ]
    }
   ],
   "source": [
    "# local machine version\n",
    "import gymnasium as gym; import sumo_rl; import os\n",
    "\n",
    "# set this global variable explicitly\n",
    "os.environ[\"SUMO_HOME\"] = \"/opt/homebrew/Caskroom/miniforge/base/envs/afterburner/bin/sumo\"\n",
    "\n",
    "# where are the route files?\n",
    "header = \"/opt/homebrew/Caskroom/miniforge/base/envs/afterburner/lib/python3.10/site-packages/sumo_rl/nets/2way-single-intersection\"\n",
    "\n",
    "# instantiate our OpenAI Gym environment\n",
    "env = gym.make(id=\"sumo-rl-v0\",\n",
    "               net_file=f\"{header}/single-intersection.net.xml\",\n",
    "               route_file=f\"{header}/single-intersection-vhvh.rou.xml\")"
   ]
  },
  {
   "cell_type": "code",
   "execution_count": 12,
   "id": "f2e12daa",
   "metadata": {},
   "outputs": [
    {
     "data": {
      "text/plain": [
       "1"
      ]
     },
     "execution_count": 12,
     "metadata": {},
     "output_type": "execute_result"
    }
   ],
   "source": [
    "env.unwrapped.CONNECTION_LABEL"
   ]
  },
  {
   "cell_type": "code",
   "execution_count": 11,
   "id": "e49b7abe",
   "metadata": {},
   "outputs": [
    {
     "data": {
      "text/plain": [
       "'0'"
      ]
     },
     "execution_count": 11,
     "metadata": {},
     "output_type": "execute_result"
    }
   ],
   "source": [
    "env.unwrapped.label"
   ]
  },
  {
   "cell_type": "code",
   "execution_count": 18,
   "id": "575600c8",
   "metadata": {},
   "outputs": [
    {
     "name": "stdout",
     "output_type": "stream",
     "text": [
      " Retrying in 1 seconds\n"
     ]
    },
    {
     "name": "stderr",
     "output_type": "stream",
     "text": [
      "Warning: Environment variable SUMO_HOME is not set properly, disabling XML validation. Set 'auto' or 'always' for web lookups.\n"
     ]
    },
    {
     "data": {
      "text/plain": [
       "(array([1., 0., 0., 0., 0., 0., 0., 0., 0., 0., 0., 0., 0., 0., 0., 0., 0.,\n",
       "        0., 0., 0., 0.], dtype=float32),\n",
       " {'step': 0.0,\n",
       "  'system_total_stopped': 0,\n",
       "  'system_total_waiting_time': 0,\n",
       "  'system_mean_waiting_time': 0.0,\n",
       "  'system_mean_speed': 0.0,\n",
       "  't_stopped': 0,\n",
       "  't_accumulated_waiting_time': 0.0,\n",
       "  't_average_speed': 1.0,\n",
       "  'agents_total_stopped': 0,\n",
       "  'agents_total_accumulated_waiting_time': 0.0})"
      ]
     },
     "execution_count": 18,
     "metadata": {},
     "output_type": "execute_result"
    }
   ],
   "source": [
    "env.reset()"
   ]
  },
  {
   "cell_type": "code",
   "execution_count": 57,
   "id": "42eff2a1",
   "metadata": {},
   "outputs": [
    {
     "data": {
      "text/plain": [
       "(array([0.        , 1.        , 0.        , 0.        , 1.        ,\n",
       "        1.        , 0.05283551, 0.63402605, 0.15850651, 1.        ,\n",
       "        0.05283551, 0.63402605, 0.15850651, 1.        , 0.        ,\n",
       "        0.63402605, 0.15850651, 1.        , 0.        , 0.63402605,\n",
       "        0.15850651], dtype=float32),\n",
       " -3.4000000000000057,\n",
       " False,\n",
       " False,\n",
       " {'step': 195.0,\n",
       "  'system_total_stopped': 68,\n",
       "  'system_total_waiting_time': 8259.0,\n",
       "  'system_mean_waiting_time': 114.70833333333333,\n",
       "  'system_mean_speed': 0.771331518293451,\n",
       "  't_stopped': 68,\n",
       "  't_accumulated_waiting_time': 8259.0,\n",
       "  't_average_speed': 0.027633696322485808,\n",
       "  'agents_total_stopped': 68,\n",
       "  'agents_total_accumulated_waiting_time': 8259.0})"
      ]
     },
     "execution_count": 57,
     "metadata": {},
     "output_type": "execute_result"
    }
   ],
   "source": [
    "env.step(1)"
   ]
  },
  {
   "cell_type": "code",
   "execution_count": null,
   "id": "86630041",
   "metadata": {},
   "outputs": [],
   "source": [
    "i=0\n",
    "\n",
    "obs, info = env.reset()\n",
    "done = False\n",
    "\n",
    "while not done:\n",
    "    state, reward, terminal, truncated, _ = env.step(np.random.choice(a=4))\n",
    "    \n",
    "    i+= 1\n",
    "    \n",
    "    if terminal:\n",
    "        break"
   ]
  },
  {
   "cell_type": "code",
   "execution_count": null,
   "id": "94d03c52",
   "metadata": {},
   "outputs": [],
   "source": [
    "state, reward, terminal, truncated"
   ]
  },
  {
   "cell_type": "code",
   "execution_count": null,
   "id": "46a7267c",
   "metadata": {},
   "outputs": [],
   "source": [
    "dir(env)"
   ]
  },
  {
   "cell_type": "code",
   "execution_count": null,
   "id": "ad415d2f",
   "metadata": {},
   "outputs": [],
   "source": [
    "import numpy as np\n",
    "import pandas as pd\n",
    "import time\n",
    "\n",
    "\n",
    "class SumoWorld():\n",
    "    \"\"\"\n",
    "    In short, it takes an env object which needs to have methods \n",
    "    1. .step(action)\n",
    "    2. .get_action_list()\n",
    "    3. .get_filename (for saving any env specific name conponents)\n",
    "    \n",
    "    \n",
    "    And attributes\n",
    "    1. .current_state \n",
    "    2. .state_value_lists (list containing lists of possible values of each state, in order state is given)\n",
    "    \"\"\"\n",
    "\n",
    "    def __init__(self, ):\n",
    "        \n",
    "        # initialize environment\n",
    "        self.env = gym.make(\"FrozenLake8x8-v1\")\n",
    "        \n",
    "        # to actually get our starting state, we need to reset the environment\n",
    "        self.current_state, _ = self.env.reset() # states are represented as integer between 0 and 63\n",
    "        \n",
    "        # save basic environments + attributes\n",
    "        self.state_value_lists = [list(range(self.env.observation_space.n))]\n",
    "        \n",
    "        # set starting state\n",
    "        i,j = start_location\n",
    "        self.current_state = (i,j, self.environments[self.current_environment][1][i,j])\n",
    "        \n",
    "        \n",
    "        \n",
    "        # missingness settings\n",
    "        assert len(self.current_state) == len(theta_in), \"theta_in length mismatch\"\n",
    "        assert len(self.current_state) == len(theta_out), \"theta_out length mismatch\"\n",
    "        assert all(elem in colors for elem in color_theta_dict.keys())\n",
    "        assert all(elem in color_theta_dict.keys() for elem in colors)\n",
    "        self.MCAR_theta = MCAR_theta\n",
    "        self.fog_i_range = fog_i_range\n",
    "        self.fog_j_range = fog_j_range\n",
    "        self.theta_in = theta_in\n",
    "        self.theta_out = theta_out\n",
    "        self.color_theta_dict = color_theta_dict\n",
    "       \n",
    "        # actions: initialize default full range of actions with descriptions or use whatever user gives\n",
    "        self.allow_stay_action = allow_stay_action\n",
    "        if action_dict == \"default\":\n",
    "            self.action_dict = {\n",
    "                                (0, 1) : \"up\", \n",
    "                                (1, 1) : \"diag-right-up\", \n",
    "                                (1, 0) : \"right\", \n",
    "                                (1, -1): \"diag-right-down\", \n",
    "                                (0, -1) : \"down\", \n",
    "                                (-1, -1) : \"diag-left-down\",\n",
    "                                (-1, 0) : \"left\", \n",
    "                                (-1, 1): \"diag-left-up\"}\n",
    "            if allow_stay_action:\n",
    "                self.action_dict[(0,0)] = \"stay\"\n",
    "            \n",
    "        else: \n",
    "            self.action_dict = action_dict\n",
    "            \n",
    "        # how to encode missing as state\n",
    "        self.missing_as_state_value = -1\n",
    "            \n",
    "      \n",
    "    def set_state(self,state): \n",
    "        \"\"\"Allow user to manually set the state.\"\"\"\n",
    "        self.current_state = state\n",
    "        \n",
    "    def get_action_list(self):\n",
    "        \"\"\"Get possible actions in a list\"\"\"\n",
    "        return list(self.action_dict.keys())\n",
    "\n",
    "    def get_reward(self):\n",
    "        \"\"\" Get reward from current state \"\"\"\n",
    "        reward = self.environments[self.current_environment][0][self.current_state[0],\n",
    "                                                                self.current_state[1]]\n",
    "        return(reward)              \n",
    "\n",
    "    def step(self, action): \n",
    "        \"\"\"\n",
    "        Implement an action by updating current state. \n",
    "        Also implements any stochasticity in the environment before \n",
    "        new state is returned.\n",
    "        \n",
    "        Returns: (reward, self.current_state, terminal)\n",
    "        \"\"\" \n",
    "        \n",
    "        #implement stochasticity\n",
    "        self.refresh_environment()\n",
    "\n",
    "        #if current state is terminal state, telaport to origin before take action\n",
    "        if self.current_state == self.terminal_location:\n",
    "            self.current_state = self.start_location\n",
    "        \n",
    "        # extract the state quantities\n",
    "        i, j, c = tuple(self.current_state)\n",
    "        \n",
    "        # proposed movement\n",
    "        i_new = int(np.clip(a=i-action[1], a_min=0, a_max=self.d-1))\n",
    "        j_new = int(np.clip(a=j+action[0], a_min=0, a_max=self.d-1))\n",
    "     \n",
    "        # compile the new state (not color yet)\n",
    "        new_loc = np.array([i_new, j_new])\n",
    "        \n",
    "        # possibly add wind to the new state\n",
    "        new_loc = wind(new_loc, self.d, self.p_wind_i, self.p_wind_j)\n",
    "        \n",
    "        # clip so that wind does not push outside of 3 x 3 grid from original state \n",
    "        i_new = int(np.clip(new_loc[0], self.current_state[0]-1, self.current_state[0]+1))\n",
    "        j_new = int(np.clip(new_loc[1], self.current_state[1]-1, self.current_state[1]+1))\n",
    "        \n",
    "        # get color of final new state\n",
    "        new_col = self.environments[self.current_environment][1][i_new, j_new]\n",
    "       \n",
    "        # Update state\n",
    "        self.current_state = (i_new, j_new, new_col)\n",
    "        \n",
    "        # Get reward\n",
    "        reward = self.get_reward()\n",
    "        \n",
    "        # Check if should be sent back to start\n",
    "        if self.river_restart:\n",
    "            if (reward == self.water_penalty):\n",
    "                self.current_state = self.start_location \n",
    "                \n",
    "        # Terminal flag #TODO: test this\n",
    "        if (self.current_state[0],self.current_state[1]) == self.terminal_location:\n",
    "            terminal = True\n",
    "        else: \n",
    "            terminal = False\n",
    "        \n",
    "        return(reward, self.current_state, terminal)\n",
    "    \n",
    "    \n",
    "    def MCAR(self):\n",
    "        \"\"\"Wrapper which applies MCAR function to current state\"\"\"\n",
    "        return(mm.MCAR(self.current_state, self.MCAR_theta))\n",
    "    \n",
    "    def Mfog(self):\n",
    "        \"\"\"\n",
    "        This missing data mechanism 'casts a fog' over some rectangular region \n",
    "        of the grid so that within this region, missingness has one rate and \n",
    "        outside this region, another. This is MCAR if (x,y) are always observed \n",
    "        (first two elements of each theta are 0) and only color is missing.\n",
    "        Else it is NMAR.\n",
    "        \n",
    "        Parameters\n",
    "        ----------\n",
    "        state : np.array\n",
    "\n",
    "        i_range : a tuple (a,b) for lower and upper bounds of fog in y direction\n",
    "       \n",
    "        j_range : a tuple (c,d) for lower and upper bounds of fog in x direction\n",
    "            DESCRIPTION.\n",
    "         \n",
    "        theta_in : np array of same length as state with elements in [0,1]\n",
    "      \n",
    "        theta_out : np array of same length as state with elements in [0,1]\n",
    "\n",
    "        Returns\n",
    "        -------\n",
    "        po_state : a copy of state, possibly with some elements set to np.nan\n",
    "     \n",
    "        \"\"\"\n",
    "        # default to not being in the region\n",
    "        inregion = False\n",
    "        \n",
    "        i_check = np.clip(a=self.current_state[0], \n",
    "                   a_min=self.fog_i_range[0], \n",
    "                   a_max=self.fog_i_range[1]) == self.current_state[0]\n",
    "        j_check = np.clip(a=self.current_state[1], \n",
    "                   a_min=self.fog_j_range[0], \n",
    "                   a_max=self.fog_j_range[1]) == self.current_state[1]\n",
    "        \n",
    "        # check if we're in the fog region or not\n",
    "        if i_check and j_check:\n",
    "            inregion = True\n",
    "            \n",
    "        # figure out what theta to use + apply the MCAR\n",
    "        theta = self.theta_in if inregion else self.theta_out\n",
    "        return mm.MCAR(self.current_state, theta)\n",
    "    \n",
    "    \n",
    "    def Mcolor(self): \n",
    "        \"\"\"\n",
    "        Applies MCAR function with a different theta vector for each color\n",
    "        \n",
    "        If the third element of each theta entry is 0 so that\n",
    "        color can never be missing, then this is MAR. Else, this is NMAR\n",
    "        \n",
    "        Examplantion: x,y|c are missing at random indepenent of the true\n",
    "        value of (x,y) but c|x,y will depend on the missing value of c\n",
    "        if color is missing. E.g., if red is has high missing rates\n",
    "        and green has low missing rates, then we may assess the probability\n",
    "        of red|x,y to be lower than it actually is just because of higher missing\n",
    "        rate.\n",
    "        \n",
    "        Note: this becomes especially relevant when we have stochastic\n",
    "        water so that color is random...some areas of our grid example have\n",
    "        constant color, which shouldn't be hard to learn ( maybe depending\n",
    "        a bit on initialization )\n",
    "        \n",
    "        Parameters\n",
    "        ----------\n",
    "        state : np.array\n",
    "        \n",
    "        theta_dict : dictionary with keys \"0\",\"1\",\"2\" and values\n",
    "            each an np.array of same length as state containing\n",
    "            elements in [0,1]\n",
    "\n",
    "        Returns\n",
    "        -------\n",
    "        po_state : a copy of state, possibly with some elements set to np.nan\n",
    "        \"\"\"\n",
    "        # query true color is + get the corresponding theta_c vector\n",
    "        c_ix = int(self.current_state[2])\n",
    "        theta_c = self.color_theta_dict[c_ix]\n",
    "        # apply MCAR\n",
    "        return mm.MCAR(self.current_state, theta_c)\n",
    "    \n",
    "    \n",
    "    def get_filename(self, env_missing):\n",
    "        \"\"\" Produce the part of the filename that concerns environment settings\n",
    "        or missingness mechanism settings, which may be specific to environment\"\"\"\n",
    "        \n",
    "        # start our filename: MM = missingness mechanism\n",
    "        fname = f\"MM={env_missing}\"\n",
    "    \n",
    "        # MISSING MECHANISM\n",
    "        # record the MCAR variables\n",
    "        if env_missing == \"MCAR\":\n",
    "            # all theta_i are the same, just record what the theta was.\n",
    "            fname += f\"_MCAR_theta={self.MCAR_theta[0]}\"\n",
    "        # record the Mcolor variables\n",
    "        elif env_missing == \"Mcolor\":\n",
    "            # only thing that is differential/changing is whether the last value is 0.0 or something else.\n",
    "            fname += f\"_t-color={self.color_theta_dict[0][1]}+{self.color_theta_dict[0][2]}\"\n",
    "        # record the Mfog variables    \n",
    "        elif env_missing == \"Mfog\":\n",
    "            # record fog-in and fog-out theta values (equal for each component)\n",
    "            fname += f\"_t-in={self.theta_in[0]}_t-out={self.theta_out[0]}\"\n",
    "        # else, throw a hissy fit\n",
    "        else:\n",
    "            raise Exception(\"Missingness mechanism is not supported.\")\n",
    "        return(fname)        "
   ]
  },
  {
   "cell_type": "code",
   "execution_count": null,
   "id": "3d1d8c92",
   "metadata": {},
   "outputs": [],
   "source": [
    "##################################\n",
    "# Logger \n",
    "##################################\n",
    "\n",
    "class LakeWorldLogger():\n",
    "    '''\n",
    "    Creates and maintains a DataFrame to log results\n",
    "    \n",
    "    Per episode: log makes it possible to calculate\n",
    "        1. Mean reward per episode, # of times we landed in the river per episode, # of steps per episode.\n",
    "        2. Counts of fully-observed, 1-missing, 2-missing, and 3-missing states per episode.       \n",
    "        3. Wall clock time per episode.\n",
    "        \n",
    "        \n",
    "    '''\n",
    "    def __init__(self, per_timestep = True):\n",
    "        \n",
    "        # for episode logs\n",
    "        self.episode_logs = pd.DataFrame(data=None, \n",
    "                            columns=[\"total_reward\",\n",
    "                                     \"steps_river\",\n",
    "                                     \"num_steps\", \n",
    "                                     \"counts_0miss\", \n",
    "                                     \"counts_1miss\",\n",
    "                                     \"counts_2miss\", \n",
    "                                     \"counts_3miss\",\n",
    "                                     \"wall_clock_time\"])\n",
    "        \n",
    "        if per_timestep:\n",
    "            self.t_step_logs = pd.DataFrame(data=None, columns=[\"t_step\",\n",
    "                                                                \"action_i\", \n",
    "                                                                \"action_j\", \n",
    "                                                                \"true_i\", \n",
    "                                                                \"true_j\", \n",
    "                                                                \"true_c\", \n",
    "                                                                \"obs_i\", \n",
    "                                                                \"obs_j\",\n",
    "                                                                \"obs_c\", \n",
    "                                                                \"reward\", \n",
    "                                                                \"wall_clock_time\"])\n",
    "    ##########################\n",
    "    # EPISODE TRACKING\n",
    "    ##########################\n",
    "    def start_epsiode(self):\n",
    "        \"\"\"Resets all counters to 0\"\"\"\n",
    "        self.total_reward = 0\n",
    "        self.steps_river = 0\n",
    "        self.num_steps = 0\n",
    "        self.counts_0miss = 0\n",
    "        self.counts_1miss = 0\n",
    "        self.counts_3miss = 0\n",
    "        self.start_time = time.time()\n",
    "        \n",
    "    def update_epsisode_log(self, env, new_pobs_state, reward):\n",
    "        \"\"\"\n",
    "        Update the various trackers that have new info per step\n",
    "        \"\"\"\n",
    "        self.num_steps += 1\n",
    "        \n",
    "        self.total_reward += reward\n",
    "        \n",
    "        if reward == env.water_penalty:\n",
    "            self.steps_river += 1\n",
    "            \n",
    "        num_nan = np.isnan(new_pobs_state).sum() \n",
    "        if num_nan == 0:\n",
    "            self.counts_0miss += 1\n",
    "        elif num_nan == 1:\n",
    "            self.counts_1miss += 1\n",
    "        elif num_nan == 2:\n",
    "            self.counts_2miss += 1\n",
    "        elif num_nan == 3:\n",
    "            self.counts_3miss += 1\n",
    "            \n",
    "                    \n",
    "    def finish_and_reset_epsiode(self):\n",
    "        \"\"\"Add this episode to overall dataframe and reset things so that\n",
    "        can start logging a new episode\"\"\"\n",
    "        \n",
    "        # get duration\n",
    "        wall_clock_time = time.time() - self.start_time \n",
    "        \n",
    "        # update our dataframe\n",
    "        row = [self.total_reward, self.steps_river, self.num_steps, \n",
    "               self.counts_0miss, self.counts_1miss, self.counts_2miss, self.counts_3miss,\n",
    "               wall_clock_time]\n",
    "        \n",
    "        # add to dataframe\n",
    "        self.logs.loc[len(self.logs.index)] = row\n",
    "        \n",
    "        #start a new episode\n",
    "        self.start_episode()\n",
    "        \n",
    "        \n",
    "    ##########################\n",
    "    # TIMESTEP TRACKING\n",
    "    ##########################\n",
    "    def start_t_step(self, t_step): \n",
    "        self.start_time_t_step = time.time()\n",
    "        self.t_step_row = [t_step]\n",
    "    \n",
    "    def finish_t_step(self, env, action, new_true_state, new_pobs_state, reward):\n",
    "        \n",
    "        self.t_step_row += [action[0], action[1]]\n",
    "        self.t_step_row += [elem for elem in new_true_state]\n",
    "        self.t_step_row += [new_pobs_state[0], new_pobs_state[1], new_pobs_state[2], reward]\n",
    "        self.t_step_row += [time.time() - self.start_time_t_step]\n",
    "        self.t_step_logs.loc[len(self.t_step_logs.index)] = self.t_step_row"
   ]
  }
 ],
 "metadata": {
  "kernelspec": {
   "display_name": "Python 3.10 (Afterburner)",
   "language": "python",
   "name": "afterburner"
  },
  "language_info": {
   "codemirror_mode": {
    "name": "ipython",
    "version": 3
   },
   "file_extension": ".py",
   "mimetype": "text/x-python",
   "name": "python",
   "nbconvert_exporter": "python",
   "pygments_lexer": "ipython3",
   "version": "3.10.14"
  }
 },
 "nbformat": 4,
 "nbformat_minor": 5
}
