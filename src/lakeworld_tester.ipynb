{
 "cells": [
  {
   "cell_type": "code",
   "execution_count": 1,
   "id": "ae4500ca",
   "metadata": {},
   "outputs": [],
   "source": [
    "from LakeWorldMain import run_LakeWorld\n",
    "import numpy as np"
   ]
  },
  {
   "cell_type": "code",
   "execution_count": 3,
   "id": "7e26ead8",
   "metadata": {},
   "outputs": [
    {
     "name": "stdout",
     "output_type": "stream",
     "text": [
      "Timestep: 2000, Past 20 Mean Epi. Sum Reward: 96.217, Fin. Episodes: 553, Past 20 Mean Path Length: 3.611\n",
      "Tada!\n"
     ]
    }
   ],
   "source": [
    "output = run_LakeWorld(p_switch=0.1, # float, flooding Markov chain parameter, {0.0, 0.1}\n",
    "                       p_wind_i=0.2, p_wind_j=0.2, # float, up-down/left-right wind frequency, {0.0, 0.1, 0.2}. INTENDED EQUAL!\n",
    "                       allow_stay_action=False, #4/16/2024 addition: True or False\n",
    "                       env_missing=\"MCAR\", # environment-missingness governor \"MCAR\", \"Mcolor\", \"Mfog\"\n",
    "                       MCAR_theta=np.array([0.5] * 3), # np.array, MCAR, same theta_i values {0.0, 0.05, 0.1, 0.2, 0.3, 0.4, 0.5, 0.6, 0.7, 0.8, 0.9, 0.95}\n",
    "                       theta_in=[None, None, None], # np.array, Mfog, in: (0.5, 0.5, 0.5) + (0.25, 0.25, 0.25)\n",
    "                       theta_out=[None, None, None], # np.array, Mfog, out: (0.0, 0.0, 0.0) + (0.1, 0.1, 0.1)\n",
    "                       color_theta_dict={0 : [None, None, None], 1 : [None, None, None], 2 : [None, None, None]}, # dict with keys {0, 1, 2} corresponding to a np.array each.\n",
    "                       impute_method=\"joint\", # \"last_fobs\", \"random_action\", \"missing_state\", \"joint\", \"mice\"\n",
    "                       action_option=\"voting1\", # voting1, voting2, averaging\n",
    "                       K=5, #number of multiple imputation chains\n",
    "                       num_cycles=None, #number of cycles used in Mice\n",
    "                       epsilon=0.05, # epsilon-greedy governor {0.0, 0.01, 0.05}\n",
    "                       alpha=1.0, # learning rate (0.1, 1.0)\n",
    "                       gamma=1.0, # discount factor (0.0, 0.25, 0.5, 0.75, 1.0)\n",
    "                       max_iters=2000, # how many iterations are we going for? 50K\n",
    "                       seed=0, # randomization seed\n",
    "                       verbose=True, # intermediate outputs or nah?\n",
    "                       river_restart=False) # option to force agent back to starting point if fall into river. True or False.)"
   ]
  }
 ],
 "metadata": {
  "kernelspec": {
   "display_name": "Python 3.10 (Afterburner)",
   "language": "python",
   "name": "afterburner"
  },
  "language_info": {
   "codemirror_mode": {
    "name": "ipython",
    "version": 3
   },
   "file_extension": ".py",
   "mimetype": "text/x-python",
   "name": "python",
   "nbconvert_exporter": "python",
   "pygments_lexer": "ipython3",
   "version": "3.10.14"
  }
 },
 "nbformat": 4,
 "nbformat_minor": 5
}
