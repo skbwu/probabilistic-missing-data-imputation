{
 "cells": [
  {
   "cell_type": "code",
   "execution_count": 185,
   "id": "9fcaf1b8",
   "metadata": {},
   "outputs": [],
   "source": [
    "import numpy as np\n",
    "import pandas as pd\n",
    "import matplotlib.pyplot as plt\n",
    "import sys, copy, os, shutil\n",
    "from tqdm.notebook import tqdm\n",
    "from IPython.display import clear_output"
   ]
  },
  {
   "cell_type": "code",
   "execution_count": 156,
   "id": "f9691191",
   "metadata": {},
   "outputs": [
    {
     "data": {
      "application/vnd.jupyter.widget-view+json": {
       "model_id": "f6feec77063a492ea0aa9fdf19a62a2b",
       "version_major": 2,
       "version_minor": 0
      },
      "text/plain": [
       "  0%|          | 0/6480 [00:00<?, ?it/s]"
      ]
     },
     "metadata": {},
     "output_type": "display_data"
    }
   ],
   "source": [
    "# get our column names for our dataframe + create the dataframe\n",
    "columns = [\"PS\", \"PW\", \"MM\", \"theta\", \"t-color\", \"t-in\", \"t-out\", \n",
    "           \"IM\", \"NC\", \"K\", \"p-shuf\", \"max-iters\", \"eps\", \"a\", \"g\", \"seed\", \"num_episodes\", \n",
    "           \"mean_total_reward\", \"mean_steps_river\", \"mean_path_length\", \"mean_wallclock_time\",\n",
    "           \"mean20_total_reward\", \"mean20_steps_river\", \"mean20_path_length\", \"mean20_wallclock_time\"]\n",
    "df = pd.DataFrame(columns=columns, data=None)\n",
    "\n",
    "# what are our settings\n",
    "fnames = [f for f in sorted(os.listdir(\"results\")) if \"PS\" in f]\n",
    "\n",
    "# go thru all of our settings\n",
    "for fname in tqdm(fnames):\n",
    "    \n",
    "    # load in each seed\n",
    "    trial_names = sorted([f for f in os.listdir(f\"results/{fname}\") if \".csv\" in f])\n",
    "    for trial_name in trial_names:\n",
    "        \n",
    "        # start the row with our settings\n",
    "        row = [fname.split(\"PS\")[1].split(\"=\")[1].split(\"_\")[0]]\n",
    "        for col in columns[1:15]:\n",
    "            if (\"_\" + col + \"=\") in fname:\n",
    "                row.append(fname.split(\"_\" + col + \"=\")[1].split(\"_\")[0])\n",
    "            else:\n",
    "                row.append(None)\n",
    "        \n",
    "        # get our seed + add it to our columns\n",
    "        seed = int(trial_name.split(\".csv\")[0].split(\"=\")[1])\n",
    "        row.append(seed)\n",
    "        \n",
    "        # load in our files + record our metrics of interest\n",
    "        logs = pd.read_csv(f\"results/{fname}/{trial_name}\")\n",
    "        \n",
    "        # number of successfully completed episodes\n",
    "        num_episodes = len(logs.index)\n",
    "        \n",
    "        # total means over all episodes\n",
    "        mean_total_reward = logs.total_reward.mean()\n",
    "        mean_steps_river = logs.steps_river.mean()\n",
    "        mean_path_length = logs.path_length.mean()\n",
    "        mean_wallclock_time = logs.wall_clock_time.mean()\n",
    "        \n",
    "        # let's look at last 20 episodes too, if applicable\n",
    "        if num_episodes >= 20:\n",
    "            mean20_total_reward = logs.total_reward.values[-20:].mean()\n",
    "            mean20_steps_river = logs.steps_river.values[-20:].mean()\n",
    "            mean20_path_length = logs.path_length.values[-20:].mean()\n",
    "            mean20_wallclock_time = logs.wall_clock_time.values[-20:].mean()\n",
    "        else:\n",
    "            mean20_total_reward = logs.total_reward.mean()\n",
    "            mean20_steps_river = logs.steps_river.mean()\n",
    "            mean20_path_length = logs.path_length.mean()\n",
    "            mean20_wallclock_time = logs.wall_clock_time.mean()\n",
    "        \n",
    "        # add to our row\n",
    "        row += [num_episodes, mean_total_reward, mean_steps_river, mean_path_length, mean_wallclock_time, \n",
    "                mean20_total_reward, mean20_steps_river, mean20_path_length, mean20_wallclock_time]\n",
    "        \n",
    "        # add to our dataframe\n",
    "        df.loc[len(df.index)] = row\n",
    "        \n",
    "# casting to various types as necessary\n",
    "df.PS = df.PS.astype(float)\n",
    "df.PW = df.PW.astype(float)\n",
    "df.theta = df.theta.astype(float)\n",
    "df[\"t-color\"] = df[\"t-color\"].astype(float)\n",
    "df[\"t-in\"] = df[\"t-in\"].astype(float)\n",
    "df[\"t-out\"] = df[\"t-out\"].astype(float)\n",
    "df.NC = df.NC.astype(float)\n",
    "df.K = df.K.astype(float)\n",
    "df[\"p-shuf\"] = df[\"p-shuf\"].astype(float)\n",
    "df[\"max-iters\"] = df[\"max-iters\"].astype(float)\n",
    "df.eps = df.eps.astype(float)\n",
    "df.a = df.a.astype(float)\n",
    "df.g = df.g.astype(float)\n",
    "\n",
    "# save our results\n",
    "df.to_csv(\"aggregate_logs.csv\", index=False)"
   ]
  }
 ],
 "metadata": {
  "kernelspec": {
   "display_name": "Python 3.9 (Afterburner)\n",
   "language": "python",
   "name": "afterburner"
  },
  "language_info": {
   "codemirror_mode": {
    "name": "ipython",
    "version": 3
   },
   "file_extension": ".py",
   "mimetype": "text/x-python",
   "name": "python",
   "nbconvert_exporter": "python",
   "pygments_lexer": "ipython3",
   "version": "3.9.12"
  }
 },
 "nbformat": 4,
 "nbformat_minor": 5
}
