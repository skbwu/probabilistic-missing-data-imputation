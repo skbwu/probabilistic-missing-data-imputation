{
 "cells": [
  {
   "cell_type": "code",
   "execution_count": 1,
   "id": "d55a7ccf",
   "metadata": {},
   "outputs": [],
   "source": [
    "import numpy as np\n",
    "import pandas as pd\n",
    "import matplotlib.pyplot as plt\n",
    "import sys, copy, os, shutil\n",
    "from tqdm.notebook import tqdm\n",
    "import seaborn as sns\n",
    "from importlib import reload\n",
    "\n",
    "# our helper functions for the gridworlds\n",
    "import GridWorldHelpers as gwh"
   ]
  },
  {
   "cell_type": "code",
   "execution_count": 2,
   "id": "eced250c",
   "metadata": {},
   "outputs": [],
   "source": [
    "# initializing our environments + corresponding colors\n",
    "d = 8 # dimension of our \n",
    "gw0, gw1, gw2 = gwh.build_grids(d=8, baseline_penalty = -1, water_penalty = -10, end_reward = 10)\n",
    "gw0_colors = gwh.make_gw_colors(gw0)\n",
    "gw1_colors = gwh.make_gw_colors(gw1)\n",
    "gw2_colors = gwh.make_gw_colors(gw2)\n",
    "\n",
    "# store quick-access indices for the environment\n",
    "environments = {\n",
    "                0: [gw0, gw0_colors], # baseline\n",
    "                1: [gw1, gw2_colors], # non-flooding\n",
    "                2: [gw2, gw2_colors] # flooding\n",
    "               }\n",
    "\n",
    "# global environment parameters \n",
    "p_switch = 0.5 # flooding Markov chain parameter\n",
    "p_wind_i = 0.5 # up-down wind frequency\n",
    "p_wind_j = 0.5 # left-right wind frequency\n",
    "\n",
    "# what is our starting \"current environment\"\n",
    "ce = 1\n",
    "\n",
    "# which environments are we flipping through?\n",
    "indices = np.array([1, 2]) # the two to be flipping between, if any. If just one, make first element"
   ]
  },
  {
   "cell_type": "code",
   "execution_count": 9,
   "id": "6c658b17",
   "metadata": {},
   "outputs": [],
   "source": [
    "# make sure we are refreshing our helper functions\n",
    "reload(gwh)\n",
    "\n",
    "# what are our possible actions?\n",
    "action_descs = gwh.load_actions()\n",
    "\n",
    "# function for initializing our Q matrix, assuming 3 colors\n",
    "def Q(d, init_value=0.0):\n",
    "    return {((i, j, c), action) : init_value for i in range(d) for j in range(d) \n",
    "            for c in range(3) for action in list(action_descs.keys())}"
   ]
  },
  {
   "cell_type": "code",
   "execution_count": 10,
   "id": "a1ee20f1",
   "metadata": {},
   "outputs": [],
   "source": [
    "# initialize our Q matrix: {((i, j, color), (a1, a2))}\n",
    "Q = Q(d, init_value=0.0)\n",
    "\n",
    "# counter of how many episodes we've hit\n",
    "finished_episodes = 0\n",
    "\n",
    "# things we want to store: rewards, time per iteration, Qmatrices every X steps.\n",
    "rewards = []\n",
    "\n",
    "# initialize our starting environment + starting state (bottom left corner)\n",
    "env = environments[ce]; \n",
    "\n",
    "\n",
    "\n",
    "true_state = (d-1, 0, )"
   ]
  },
  {
   "cell_type": "code",
   "execution_count": null,
   "id": "24b8a700",
   "metadata": {},
   "outputs": [],
   "source": [
    "environment[]"
   ]
  },
  {
   "cell_type": "code",
   "execution_count": 12,
   "id": "5c6926f8",
   "metadata": {},
   "outputs": [
    {
     "data": {
      "text/plain": [
       "array([[-1., -1., -1., -1., -1., -1., -1., 10.],\n",
       "       [-1., -1., -1., -1., -1., -1., -1., -1.],\n",
       "       [-1., -1., -1., -1., -1., -1., -1., -1.],\n",
       "       [-1., -1., -1., -1., -1., -1., -1., -1.],\n",
       "       [-1., -1., -1., -1., -1., -1., -1., -1.],\n",
       "       [-1., -1., -1., -1., -1., -1., -1., -1.],\n",
       "       [-1., -1., -1., -1., -1., -1., -1., -1.],\n",
       "       [-1., -1., -1., -1., -1., -1., -1., -1.]])"
      ]
     },
     "execution_count": 12,
     "metadata": {},
     "output_type": "execute_result"
    }
   ],
   "source": [
    "gw0"
   ]
  },
  {
   "cell_type": "code",
   "execution_count": null,
   "id": "ddf4bc91",
   "metadata": {},
   "outputs": [],
   "source": [
    "get_environment(ce, )"
   ]
  }
 ],
 "metadata": {
  "kernelspec": {
   "display_name": "Python 3.9 (Afterburner)\n",
   "language": "python",
   "name": "afterburner"
  },
  "language_info": {
   "codemirror_mode": {
    "name": "ipython",
    "version": 3
   },
   "file_extension": ".py",
   "mimetype": "text/x-python",
   "name": "python",
   "nbconvert_exporter": "python",
   "pygments_lexer": "ipython3",
   "version": "3.9.12"
  }
 },
 "nbformat": 4,
 "nbformat_minor": 5
}
